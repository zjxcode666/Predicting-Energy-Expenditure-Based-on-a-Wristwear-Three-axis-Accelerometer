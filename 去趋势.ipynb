{
 "cells": [
  {
   "cell_type": "code",
   "execution_count": 4,
   "metadata": {},
   "outputs": [],
   "source": [
    "import os\n",
    "import numpy as np\n",
    "import pandas as pd"
   ]
  },
  {
   "cell_type": "code",
   "execution_count": 5,
   "metadata": {},
   "outputs": [],
   "source": [
    "def filter_data(data):\n",
    "    data_list = []\n",
    "    for i in range(5, len(data)):\n",
    "        pre_mean_data = np.mean(np.array(data[i-5:i]))\n",
    "        data_list.append(data[i] - pre_mean_data)\n",
    "    return data_list        "
   ]
  },
  {
   "cell_type": "code",
   "execution_count": 6,
   "metadata": {},
   "outputs": [],
   "source": [
    "indir = './建模组过滤后/'\n",
    "outdir = './去趋势处理后'\n",
    "os.makedirs(outdir, exist_ok=True)\n",
    "filelist = os.listdir(indir)\n",
    "for file_name in filelist:\n",
    "    path = os.path.join(indir, file_name)\n",
    "    file = open(path, 'r')\n",
    "    temp = []\n",
    "    for index, line in enumerate(file):\n",
    "        if index == 0:\n",
    "            continue\n",
    "        temp.append(line.strip().split('\\t'))\n",
    "    v1 = [x[0] for x in temp][5:]\n",
    "    v2 = filter_data([float(x[1]) for x in temp])\n",
    "    v3 = filter_data([float(x[2]) for x in temp])\n",
    "    v4 = filter_data([float(x[3]) for x in temp])\n",
    "    vm = [float(x[4]) for x in temp][5:]\n",
    "    out_temp = []\n",
    "    out_temp.append(['time', 'x', 'y', 'z', 'vm'])\n",
    "    for i in range(len(v1)):\n",
    "        out_temp.append([str(v1[i]), str(v2[i]), str(v3[i]), str(v4[i]), str(vm[i])])\n",
    "    file_write = open(os.path.join(outdir, file_name), 'w')\n",
    "    for line in out_temp:\n",
    "        file_write.write('\\t'.join(line) + '\\n')\n",
    "    file_write.close()\n",
    "    "
   ]
  },
  {
   "cell_type": "code",
   "execution_count": null,
   "metadata": {},
   "outputs": [],
   "source": []
  }
 ],
 "metadata": {
  "kernelspec": {
   "display_name": "Python 3 (ipykernel)",
   "language": "python",
   "name": "python3"
  },
  "language_info": {
   "codemirror_mode": {
    "name": "ipython",
    "version": 3
   },
   "file_extension": ".py",
   "mimetype": "text/x-python",
   "name": "python",
   "nbconvert_exporter": "python",
   "pygments_lexer": "ipython3",
   "version": "3.10.11"
  }
 },
 "nbformat": 4,
 "nbformat_minor": 2
}
