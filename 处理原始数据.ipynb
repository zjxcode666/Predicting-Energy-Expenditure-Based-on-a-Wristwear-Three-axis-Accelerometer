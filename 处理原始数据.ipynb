{
 "cells": [
  {
   "cell_type": "code",
   "execution_count": 13,
   "id": "3a6e41a9",
   "metadata": {},
   "outputs": [],
   "source": [
    "import numpy as np\n",
    "import matplotlib.pyplot as plt\n",
    "import os\n",
    "import pandas as pd"
   ]
  },
  {
   "cell_type": "code",
   "execution_count": 14,
   "id": "f76c71e3",
   "metadata": {},
   "outputs": [],
   "source": [
    "def average_data(file_path,out_fileroot,fre):\n",
    "    freq=fre\n",
    "    file_name = os.path.basename(file_path)\n",
    "    dataresult0 = []\n",
    "    dataresult1 = []\n",
    "    dataresult2 = [] \n",
    "    dataresult3 = []\n",
    "    i= 0\n",
    "    file = open(file_path)\n",
    "    for line in file.readlines():\n",
    "        curLine = line.strip().split(\"\t\")\n",
    "        if i != 0:\n",
    "            dataresult0.append(curLine[0])\n",
    "            dataresult1.append(float(curLine[1]))   \n",
    "            dataresult2.append(float(curLine[2]))  \n",
    "            dataresult3.append(float(curLine[3]))   \n",
    "        i=i+1\n",
    "    \n",
    "    count=0\n",
    "    data=[];\n",
    "    dataout_mean=[];\n",
    "    dataout_sd=[];\n",
    "    dataout_min=[];\n",
    "    dataout_max=[];\n",
    "    dataout_10th=[];\n",
    "    dataout_25th=[];\n",
    "    dataout_50th=[];\n",
    "    dataout_75th=[];\n",
    "    dataout_90th=[];\n",
    "    \n",
    "    for index in range(len(dataresult0)):\n",
    "       \n",
    "        \n",
    "        if index==(len(dataresult0)-1):\n",
    "            count=count+1\n",
    "        else: \n",
    "            if dataresult0[index+1]!=dataresult0[index]:\n",
    "                count=count+1\n",
    "        temp=(dataresult1[index]**2+dataresult2[index]**2+dataresult3[index]**2)** 0.5\n",
    "        data.append(temp)\n",
    "    \n",
    "        if count==freq:  \n",
    "            dataout_mean.append(round(np.average(data),4))\n",
    "            dataout_sd.append(round(np.std(data),4))\n",
    "            dataout_min.append(round(min(data),4))\n",
    "            dataout_max.append(round(max(data),4))\n",
    "            dataout_10th.append(round(np.percentile(data,10),4))\n",
    "            dataout_25th.append(round(np.percentile(data,25),4))\n",
    "            dataout_50th.append(round(np.percentile(data,50),4))\n",
    "            dataout_75th.append(round(np.percentile(data,75),4))\n",
    "            dataout_90th.append(round(np.percentile(data,90),4))\n",
    "            data=[]\n",
    "            count=0\n",
    "    freq_str=str(freq)\n",
    "    Outputfile_root=out_fileroot\n",
    "    Outfile_path = os.path.join(Outputfile_root, freq_str)\n",
    "    Outfile_path = os.path.join(Outfile_path, file_name)\n",
    "    file_write = open(Outfile_path, 'w')\n",
    "    row0 = [u'average',u'sd',u'min',u'max',u'10th',u'25th',u'50th',u'75th',u'90th']\n",
    "    file_write.write('\\t'.join(row0) + '\\n')\n",
    "    for i in range(len(dataout_mean)):\n",
    "        row = [dataout_mean[i],dataout_sd[i],dataout_min[i],dataout_max[i],dataout_10th[i],\n",
    "               dataout_25th[i],dataout_50th[i],dataout_75th[i],dataout_90th[i]]\n",
    "        row = [str(x) for x in row]\n",
    "        file_write.write('\\t'.join(row) + '\\n')\n",
    "    file_write.close()\n"
   ]
  },
  {
   "cell_type": "code",
   "execution_count": 15,
   "id": "6c821699",
   "metadata": {},
   "outputs": [],
   "source": [
    "if __name__ == '__main__':\n",
    "    Str=[\"建模组\",\"验证组\"]\n",
    "    freq=60  \n",
    "    for i in Str:\n",
    "        Inputfile_root = './{0}原始数据'.format(i)\n",
    "        Outputfile_root = './{0}平均后的数据'.format(i)\n",
    "        file_list = os.listdir(Inputfile_root)\n",
    "        for file_name in file_list:\n",
    "            file_path=os.path.join(Inputfile_root, file_name)\n",
    "            average_data(file_path,Outputfile_root,freq)"
   ]
  },
  {
   "cell_type": "code",
   "execution_count": null,
   "id": "56ab8acb",
   "metadata": {},
   "outputs": [],
   "source": []
  }
 ],
 "metadata": {
  "kernelspec": {
   "display_name": "Python 3 (ipykernel)",
   "language": "python",
   "name": "python3"
  },
  "language_info": {
   "codemirror_mode": {
    "name": "ipython",
    "version": 3
   },
   "file_extension": ".py",
   "mimetype": "text/x-python",
   "name": "python",
   "nbconvert_exporter": "python",
   "pygments_lexer": "ipython3",
   "version": "3.10.11"
  },
  "varInspector": {
   "cols": {
    "lenName": 16,
    "lenType": 16,
    "lenVar": 40
   },
   "kernels_config": {
    "python": {
     "delete_cmd_postfix": "",
     "delete_cmd_prefix": "del ",
     "library": "var_list.py",
     "varRefreshCmd": "print(var_dic_list())"
    },
    "r": {
     "delete_cmd_postfix": ") ",
     "delete_cmd_prefix": "rm(",
     "library": "var_list.r",
     "varRefreshCmd": "cat(var_dic_list()) "
    }
   },
   "oldHeight": 122,
   "position": {
    "height": "40px",
    "left": "1096px",
    "right": "20px",
    "top": "119px",
    "width": "250px"
   },
   "types_to_exclude": [
    "module",
    "function",
    "builtin_function_or_method",
    "instance",
    "_Feature"
   ],
   "varInspector_section_display": "none",
   "window_display": true
  }
 },
 "nbformat": 4,
 "nbformat_minor": 5
}
