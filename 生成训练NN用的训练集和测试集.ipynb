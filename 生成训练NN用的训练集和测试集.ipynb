{
 "cells": [
  {
   "cell_type": "code",
   "execution_count": 11,
   "id": "4bf4d0b4",
   "metadata": {},
   "outputs": [],
   "source": [
    "import numpy as np\n",
    "import matplotlib.pyplot as plt\n",
    "import os\n",
    "import pandas as pd\n",
    "from pandas import  DataFrame\n",
    "import csv"
   ]
  },
  {
   "cell_type": "code",
   "execution_count": 12,
   "id": "19c4a907",
   "metadata": {},
   "outputs": [],
   "source": [
    "def generate_data4NN(s,fre):\n",
    "    freq=fre\n",
    "    out_file_path = './训练集与测试集数据'\n",
    "    os.makedirs(out_file_path, exist_ok= True)\n",
    "    if s==\"建模组\":\n",
    "        out_file_path = os.path.join(out_file_path, './train_data_{0}.csv'.format(str(freq)))\n",
    "    else:\n",
    "        out_file_path = os.path.join(out_file_path, './val_data_{0}.csv'.format(str(freq)))\n",
    "    file_write = open(out_file_path, 'w')\n",
    "    writer=csv.writer(file_write, dialect='unix')\n",
    "    row0 = [u'name',u'MET', u'speed', u'mean', u'sd', u'min', u'max', u'10th', u'25th', u'50th', u'75th', u'90th']  #先写入表头\n",
    "    writer.writerow(row0)\n",
    "    file_write.close() \n",
    "    \n",
    "    \n",
    "    \n",
    "    #读入数据\n",
    "    average_file_root='./{0}平均后的数据'.format(s)\n",
    "    average_file_root = os.path.join(average_file_root, str(freq))\n",
    "    file_list = os.listdir(average_file_root)\n",
    "    for file_name in file_list:\n",
    "        file_path=os.path.join(average_file_root, file_name)\n",
    "        file = open(file_path)\n",
    "        file_name = os.path.basename(file_path)\n",
    "        i=0\n",
    "        dataresult0=[]\n",
    "        dataresult1=[]\n",
    "        dataresult2=[]  \n",
    "        dataresult3=[]\n",
    "        dataresult4=[]\n",
    "        dataresult5=[]\n",
    "        dataresult6=[]\n",
    "        dataresult7=[]\n",
    "        dataresult8=[]\n",
    "        for line in file.readlines():\n",
    "            curLine = line.strip().split(\"\t\")\n",
    "            if i != 0:\n",
    "                dataresult0.append(float(curLine[0]))\n",
    "                dataresult1.append(float(curLine[1]))  \n",
    "                dataresult2.append(float(curLine[2]))   \n",
    "                dataresult3.append(float(curLine[3]))  \n",
    "                dataresult4.append(float(curLine[4]))\n",
    "                dataresult5.append(float(curLine[5]))   \n",
    "                dataresult6.append(float(curLine[6]))   \n",
    "                dataresult7.append(float(curLine[7]))\n",
    "                dataresult8.append(float(curLine[8]))  \n",
    "            i=i+1\n",
    "        name= file_name[:-7]\n",
    "        speed=int(float(file_name[-7:-6])) \n",
    "\n",
    "\n",
    "        met_file_path='./METs原始数据汇总_9-22-22.xlsx'\n",
    "        start_col=-1\n",
    "        met_total=[]  \n",
    "        met_file_path='./METs原始数据汇总_9-22-22.xlsx'\n",
    "        getInfo = pd.read_excel(met_file_path, sheet_name=\"{0}原始METs\".format(s), dtype=str, keep_default_na=False)\n",
    "        for i in getInfo.index:\n",
    "            for j in range(len(getInfo.loc[i].values)):\n",
    "                if (getInfo.loc[i].values[j] == name):\n",
    "                    start_col = i\n",
    "        if (start_col==-1):\n",
    "            print (\"Mets原始汇总表中找不到%s的名字\"%name)\n",
    "            continue\n",
    "        for i in range(12):\n",
    "                temp=getInfo.loc[start_col+i].values[speed-1]\n",
    "                met_total.append(float(temp))  \n",
    "\n",
    "        freq_int=int(float(freq/10))\n",
    "        dataresult9=[]  \n",
    "        for i in range(len(met_total)):\n",
    "            if (i%freq_int==0):\n",
    "                sum=0\n",
    "                for j in range(freq_int):\n",
    "                    sum=sum+met_total[i+j]\n",
    "                met_aver=sum/freq_int\n",
    "                dataresult9.append(met_aver)   \n",
    "\n",
    "\n",
    "\n",
    "        file_write = open(out_file_path, 'a', newline='')\n",
    "        writer=csv.writer(file_write)\n",
    "        for i in range(len(dataresult9)):\n",
    "            row = [name, dataresult9[i], speed, dataresult0[i], dataresult1[i], dataresult2[i],dataresult3[i], dataresult4[i], dataresult5[i],dataresult6[i], dataresult7[i], dataresult8[i]]\n",
    "            row = [str(x) for x in row]\n",
    "            writer.writerow(row)\n",
    "        file_write.close() "
   ]
  },
  {
   "cell_type": "code",
   "execution_count": 13,
   "id": "80c68439",
   "metadata": {},
   "outputs": [],
   "source": [
    "if __name__ == '__main__':\n",
    "    Str=[\"建模组\",\"验证组\"]\n",
    "    freq=10\n",
    "    for i in Str:\n",
    "        generate_data4NN(i,freq)"
   ]
  },
  {
   "cell_type": "code",
   "execution_count": null,
   "id": "a8fc4c9e",
   "metadata": {},
   "outputs": [],
   "source": []
  }
 ],
 "metadata": {
  "kernelspec": {
   "display_name": "Python 3 (ipykernel)",
   "language": "python",
   "name": "python3"
  },
  "language_info": {
   "codemirror_mode": {
    "name": "ipython",
    "version": 3
   },
   "file_extension": ".py",
   "mimetype": "text/x-python",
   "name": "python",
   "nbconvert_exporter": "python",
   "pygments_lexer": "ipython3",
   "version": "3.10.11"
  },
  "varInspector": {
   "cols": {
    "lenName": 16,
    "lenType": 16,
    "lenVar": 40
   },
   "kernels_config": {
    "python": {
     "delete_cmd_postfix": "",
     "delete_cmd_prefix": "del ",
     "library": "var_list.py",
     "varRefreshCmd": "print(var_dic_list())"
    },
    "r": {
     "delete_cmd_postfix": ") ",
     "delete_cmd_prefix": "rm(",
     "library": "var_list.r",
     "varRefreshCmd": "cat(var_dic_list()) "
    }
   },
   "types_to_exclude": [
    "module",
    "function",
    "builtin_function_or_method",
    "instance",
    "_Feature"
   ],
   "window_display": false
  }
 },
 "nbformat": 4,
 "nbformat_minor": 5
}
